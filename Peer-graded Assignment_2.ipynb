{
 "cells": [
  {
   "cell_type": "markdown",
   "metadata": {},
   "source": [
    "## Peer-graded Assignment: Capstone Project - The Battle of Neighborhoods (Week 1)"
   ]
  },
  {
   "cell_type": "markdown",
   "metadata": {},
   "source": [
    "Describe the data that you will be using to solve the problem or execute your idea. Remember that you will need to use the Foursquare location data to solve the problem or execute your idea. You can absolutely use other datasets in combination with the Foursquare location data. So make sure that you provide adequate explanation and discussion, with examples, of the data that you will be using, even if it is only Foursquare location data."
   ]
  },
  {
   "cell_type": "markdown",
   "metadata": {},
   "source": [
    "The Toronto neighborhood data set is going to be used for segmenting and clustering the neighborhoods in the city of Toronto. This will help to detect the similarities and dissimilarities of neighborhoods. The Toronto neighborhood data will be scraped from a Wikipedia page (https://en.wikipedia.org/wiki/List_of_postal_codes_of_Canada:_M). \n",
    "\n",
    "This page has all the information needed to explore and cluster the neighborhoods. The data contains the coordinates for each neighborhood. Clustering techniques such as K-means will be used to segment and cluster these neighborhoods so that they can be grouped together. After the grouping, their similarities and what we can do with those type of neighborhoods can be understood."
   ]
  },
  {
   "cell_type": "markdown",
   "metadata": {},
   "source": [
    "As our idea of business is open Gym it will be used the Foursquare API to find the gym frequency in a neighborhood or existence of a trending gym are another data that can be useful in the project.\n",
    "\n",
    "Foursquare is a local search-and-discovery service mobile app which provides search results for its users. The app provides personalized recommendations of places to go to near a user's current location based on users' \"previous browsing history, purchases, or check-in history\". \n",
    "\n",
    "Foursquare API will be used to explore the various types of venues and their categories available in each neighborhood. "
   ]
  },
  {
   "cell_type": "markdown",
   "metadata": {},
   "source": [
    "We will then be able to come up with the best location for the gym with all these features, techniques and data. The location is the optimum neighborhood to start offering services. For example, a neighborhood with a lot of available gyms or a trending high-end gym, will be classified as a high risk. The model intended to recommend a neighborhood where will be a higher demand of gym service due to the absence of gyms in that area."
   ]
  },
  {
   "cell_type": "code",
   "execution_count": null,
   "metadata": {},
   "outputs": [],
   "source": []
  }
 ],
 "metadata": {
  "kernelspec": {
   "display_name": "Python",
   "language": "python",
   "name": "conda-env-python-py"
  },
  "language_info": {
   "codemirror_mode": {
    "name": "ipython",
    "version": 3
   },
   "file_extension": ".py",
   "mimetype": "text/x-python",
   "name": "python",
   "nbconvert_exporter": "python",
   "pygments_lexer": "ipython3",
   "version": "3.6.7"
  }
 },
 "nbformat": 4,
 "nbformat_minor": 4
}
