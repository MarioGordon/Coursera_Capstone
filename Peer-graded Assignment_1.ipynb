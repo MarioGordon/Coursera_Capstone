{
 "cells": [
  {
   "cell_type": "markdown",
   "metadata": {},
   "source": [
    "## Peer-graded Assignment: Capstone Project - The Battle of Neighborhoods (Week 1)"
   ]
  },
  {
   "cell_type": "markdown",
   "metadata": {},
   "source": [
    "Clearly define a problem or an idea of your choice, where you would need to leverage the Foursquare location data to solve or execute. Remember that data science problems always target an audience and are meant to help a group of stakeholders solve a problem, so make sure that you explicitly describe your audience and why they would care about your problem"
   ]
  },
  {
   "cell_type": "markdown",
   "metadata": {},
   "source": [
    "### Introduction/Business Problem"
   ]
  },
  {
   "cell_type": "markdown",
   "metadata": {},
   "source": [
    "Toronto is the provincial capital of Ontario and the most populous city in Canada, with a population of 2,731,571 in 2016. Current to 2016, the Toronto census metropolitan area (CMA), of which the majority is within the Greater Toronto Area (GTA), held a population of 5,928,040, making it Canada's most populous CMA. Toronto is an international centre of business, finance, arts, and culture, and is recognized as one of the most multicultural and cosmopolitan cities in the world."
   ]
  },
  {
   "cell_type": "markdown",
   "metadata": {},
   "source": [
    "Toronto is an international centre for business and finance. Generally considered the financial capital of Canada, Toronto has a high concentration of banks and brokerage firms on Bay Street, in the Financial District. The Toronto Stock Exchange is the world's seventh-largest stock exchange by market capitalization. The five largest financial institutions of Canada, collectively known as the Big Five, have national offices in Toronto."
   ]
  },
  {
   "cell_type": "markdown",
   "metadata": {},
   "source": [
    "Toronto's unemployment rate was 6.7% as of July 2016. According to the website Numbeo, Toronto's cost of living plus rent index was second highest in Canada (of 31 cities). The local purchasing power was the sixth lowest in Canada, mid-2017. The average monthly social assistance caseload for January to October 2014 was 92,771. The number of seniors living in poverty increased from 10.5% in 2011 to 12.1% in 2014. "
   ]
  },
  {
   "cell_type": "markdown",
   "metadata": {},
   "source": [
    "The city's population grew by 4% (96,073 residents) between 1996 and 2001, 1% (21,787 residents) between 2001 and 2006, 4.3% (111,779 residents) between 2006 and 2011, and 4.5% (116,511) between 2011 and 2016. In 2016, persons aged 14 years and under made up 14.5% of the population, and those aged 65 years and over made up 15.6%. The median age was 39.3 years. The city's gender population is 48% male and 52% female. Women outnumber men in all age groups 15 and older."
   ]
  },
  {
   "cell_type": "markdown",
   "metadata": {},
   "source": [
    "For those facts economic and demographic I am wondering if open a business in Toronto could be a good idea for investing in the area of fitness. In this case I am looking for Gyms in Toronto Boroughs, for that reason I will do a research using geo-location data and the Foursquare API to find an optimum location in the city of Toronto to open the business and minimize the risk of failure.\n"
   ]
  },
  {
   "cell_type": "code",
   "execution_count": null,
   "metadata": {},
   "outputs": [],
   "source": []
  }
 ],
 "metadata": {
  "kernelspec": {
   "display_name": "Python",
   "language": "python",
   "name": "conda-env-python-py"
  },
  "language_info": {
   "codemirror_mode": {
    "name": "ipython",
    "version": 3
   },
   "file_extension": ".py",
   "mimetype": "text/x-python",
   "name": "python",
   "nbconvert_exporter": "python",
   "pygments_lexer": "ipython3",
   "version": "3.6.7"
  }
 },
 "nbformat": 4,
 "nbformat_minor": 4
}
